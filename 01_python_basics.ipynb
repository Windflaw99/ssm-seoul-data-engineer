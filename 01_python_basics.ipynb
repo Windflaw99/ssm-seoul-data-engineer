{
  "nbformat": 4,
  "nbformat_minor": 0,
  "metadata": {
    "colab": {
      "provenance": [],
      "toc_visible": true,
      "authorship_tag": "ABX9TyPKdWqwI0+1S5kAiA/8oqDX",
      "include_colab_link": true
    },
    "kernelspec": {
      "name": "python3",
      "display_name": "Python 3"
    },
    "language_info": {
      "name": "python"
    }
  },
  "cells": [
    {
      "cell_type": "markdown",
      "metadata": {
        "id": "view-in-github",
        "colab_type": "text"
      },
      "source": [
        "<a href=\"https://colab.research.google.com/github/Windflaw99/ssm-seoul-data-engineer/blob/master/01_python_basics.ipynb\" target=\"_parent\"><img src=\"https://colab.research.google.com/assets/colab-badge.svg\" alt=\"Open In Colab\"/></a>"
      ]
    },
    {
      "cell_type": "code",
      "execution_count": 1,
      "metadata": {
        "colab": {
          "base_uri": "https://localhost:8080/"
        },
        "id": "Sk7y-fbjZfSy",
        "outputId": "62155a59-60ea-47bc-d760-9a2c153be9eb"
      },
      "outputs": [
        {
          "output_type": "stream",
          "name": "stdout",
          "text": [
            "Hello World\n"
          ]
        }
      ],
      "source": [
        "print(\"Hello World\")"
      ]
    },
    {
      "cell_type": "code",
      "source": [
        "import pandas"
      ],
      "metadata": {
        "id": "s2dPNVneZjMD"
      },
      "execution_count": 2,
      "outputs": []
    },
    {
      "cell_type": "markdown",
      "source": [
        "## 파이썬 자료형(Data Type)\n",
        "- 숫자형 (Number)\n",
        "- 문자형 (string)\n",
        "- 리스트 (List)\n",
        "- 튜플형 (Tuple), 딕셔너리형 (Dict), 집합형 (Set)\n",
        "- 불형 (Boolean)\n",
        "\n"
      ],
      "metadata": {
        "id": "E_dzhgo1aXLK"
      }
    },
    {
      "cell_type": "code",
      "source": [
        "x = \"python\"\n",
        "type(x)"
      ],
      "metadata": {
        "colab": {
          "base_uri": "https://localhost:8080/"
        },
        "id": "lMILgj9YZ80Z",
        "outputId": "7cd4b94f-f1d8-4a96-bb1d-a1de83279215"
      },
      "execution_count": 3,
      "outputs": [
        {
          "output_type": "execute_result",
          "data": {
            "text/plain": [
              "str"
            ]
          },
          "metadata": {},
          "execution_count": 3
        }
      ]
    },
    {
      "cell_type": "code",
      "source": [
        "x = 10\n",
        "type(x)"
      ],
      "metadata": {
        "colab": {
          "base_uri": "https://localhost:8080/"
        },
        "id": "WCNqae8dbYEF",
        "outputId": "4ad8ade9-54f1-49d1-cba7-e56b601b90f4"
      },
      "execution_count": 4,
      "outputs": [
        {
          "output_type": "execute_result",
          "data": {
            "text/plain": [
              "int"
            ]
          },
          "metadata": {},
          "execution_count": 4
        }
      ]
    },
    {
      "cell_type": "code",
      "source": [
        "x = [1,2,3]\n",
        "type (x)"
      ],
      "metadata": {
        "colab": {
          "base_uri": "https://localhost:8080/"
        },
        "id": "DwDWUe5Obcpe",
        "outputId": "c083a01d-b747-4089-a306-4e2ef05f5449"
      },
      "execution_count": 7,
      "outputs": [
        {
          "output_type": "execute_result",
          "data": {
            "text/plain": [
              "list"
            ]
          },
          "metadata": {},
          "execution_count": 7
        }
      ]
    },
    {
      "cell_type": "code",
      "source": [
        "x = {\"name\":\"python\", \"age\":30}\n",
        "type(x)"
      ],
      "metadata": {
        "colab": {
          "base_uri": "https://localhost:8080/"
        },
        "id": "0My5bXZ5bjxm",
        "outputId": "21a26680-58f6-48a7-c1a1-b5bb64cd9be2"
      },
      "execution_count": 8,
      "outputs": [
        {
          "output_type": "execute_result",
          "data": {
            "text/plain": [
              "dict"
            ]
          },
          "metadata": {},
          "execution_count": 8
        }
      ]
    },
    {
      "cell_type": "code",
      "source": [
        "x = True\n",
        "type(x)"
      ],
      "metadata": {
        "colab": {
          "base_uri": "https://localhost:8080/"
        },
        "id": "jCml0Xmeb2eN",
        "outputId": "482c6276-95ab-4dc9-f9b1-f56988790c2b"
      },
      "execution_count": 10,
      "outputs": [
        {
          "output_type": "execute_result",
          "data": {
            "text/plain": [
              "bool"
            ]
          },
          "metadata": {},
          "execution_count": 10
        }
      ]
    },
    {
      "cell_type": "markdown",
      "source": [
        "### 1. 숫자형(Numer)\n",
        "- 정수형(Integer)\n",
        "- 실수형(Float)"
      ],
      "metadata": {
        "id": "iGlfrhPvm4S1"
      }
    },
    {
      "cell_type": "code",
      "source": [
        "x = 1.0\n",
        "type(x)"
      ],
      "metadata": {
        "colab": {
          "base_uri": "https://localhost:8080/"
        },
        "id": "IcTsHstJb7Rp",
        "outputId": "0e4b97d2-04bd-40b2-92ec-aa5b35a845ae"
      },
      "execution_count": 12,
      "outputs": [
        {
          "output_type": "execute_result",
          "data": {
            "text/plain": [
              "float"
            ]
          },
          "metadata": {},
          "execution_count": 12
        }
      ]
    },
    {
      "cell_type": "code",
      "source": [
        "a = 1\n",
        "b = 2\n",
        "a+b"
      ],
      "metadata": {
        "colab": {
          "base_uri": "https://localhost:8080/"
        },
        "id": "lfZMgg3YckF2",
        "outputId": "039bbea8-622f-4c4b-93c8-8f6c3331760b"
      },
      "execution_count": 13,
      "outputs": [
        {
          "output_type": "execute_result",
          "data": {
            "text/plain": [
              "3"
            ]
          },
          "metadata": {},
          "execution_count": 13
        }
      ]
    },
    {
      "cell_type": "code",
      "source": [
        "a*b"
      ],
      "metadata": {
        "colab": {
          "base_uri": "https://localhost:8080/"
        },
        "id": "8bLhSB6ucnDH",
        "outputId": "e8086a42-f7c7-4c8c-b06d-dfcc770a6eb1"
      },
      "execution_count": 15,
      "outputs": [
        {
          "output_type": "execute_result",
          "data": {
            "text/plain": [
              "2"
            ]
          },
          "metadata": {},
          "execution_count": 15
        }
      ]
    },
    {
      "cell_type": "code",
      "source": [
        "a/b"
      ],
      "metadata": {
        "colab": {
          "base_uri": "https://localhost:8080/"
        },
        "id": "F1to9p3mcowe",
        "outputId": "a65a53a9-fb83-4d25-edcb-0079e30040ca"
      },
      "execution_count": 16,
      "outputs": [
        {
          "output_type": "execute_result",
          "data": {
            "text/plain": [
              "0.5"
            ]
          },
          "metadata": {},
          "execution_count": 16
        }
      ]
    },
    {
      "cell_type": "markdown",
      "source": [
        "### 2. 문자형 (String)\n",
        "- 작은따옴표(') 또는 쌍따옴표(\") 로 감싸져 있다."
      ],
      "metadata": {
        "id": "zXnx6FQ4cxRA"
      }
    },
    {
      "cell_type": "code",
      "source": [
        "a=\"10\"\n",
        "type(a)"
      ],
      "metadata": {
        "colab": {
          "base_uri": "https://localhost:8080/"
        },
        "id": "H8PlP2zdc_S2",
        "outputId": "12229537-98ec-497a-8b4c-ff060b550758"
      },
      "execution_count": 17,
      "outputs": [
        {
          "output_type": "execute_result",
          "data": {
            "text/plain": [
              "str"
            ]
          },
          "metadata": {},
          "execution_count": 17
        }
      ]
    },
    {
      "cell_type": "code",
      "source": [
        "\"100\" + a"
      ],
      "metadata": {
        "colab": {
          "base_uri": "https://localhost:8080/",
          "height": 35
        },
        "id": "fsk3PN12dGiu",
        "outputId": "35a70bd1-fa48-441b-b609-a55af47b8d53"
      },
      "execution_count": 18,
      "outputs": [
        {
          "output_type": "execute_result",
          "data": {
            "text/plain": [
              "'10010'"
            ],
            "application/vnd.google.colaboratory.intrinsic+json": {
              "type": "string"
            }
          },
          "metadata": {},
          "execution_count": 18
        }
      ]
    },
    {
      "cell_type": "code",
      "source": [
        "100 + int(a)"
      ],
      "metadata": {
        "colab": {
          "base_uri": "https://localhost:8080/"
        },
        "id": "oJ5omMY_dP90",
        "outputId": "036d8089-657c-4020-95c9-cdfceaf8fe0c"
      },
      "execution_count": 19,
      "outputs": [
        {
          "output_type": "execute_result",
          "data": {
            "text/plain": [
              "110"
            ]
          },
          "metadata": {},
          "execution_count": 19
        }
      ]
    },
    {
      "cell_type": "code",
      "source": [
        "word = \"It's kind of fun to do the impossible\"\n",
        "word"
      ],
      "metadata": {
        "colab": {
          "base_uri": "https://localhost:8080/",
          "height": 35
        },
        "id": "-oQFiIAOdg6o",
        "outputId": "8ce0fe0d-4bea-445e-828a-78f861736715"
      },
      "execution_count": 20,
      "outputs": [
        {
          "output_type": "execute_result",
          "data": {
            "text/plain": [
              "\"It's kind of fun to do the impossible\""
            ],
            "application/vnd.google.colaboratory.intrinsic+json": {
              "type": "string"
            }
          },
          "metadata": {},
          "execution_count": 20
        }
      ]
    },
    {
      "cell_type": "code",
      "source": [
        "word = 'It\\'s kind of fun to do the impossible'\n",
        "word"
      ],
      "metadata": {
        "colab": {
          "base_uri": "https://localhost:8080/",
          "height": 35
        },
        "id": "4EX3_acrdZmU",
        "outputId": "b129d6cc-9903-42e1-b523-c08c7e1342cb"
      },
      "execution_count": 22,
      "outputs": [
        {
          "output_type": "execute_result",
          "data": {
            "text/plain": [
              "\"It's kind of fun to do the impossible\""
            ],
            "application/vnd.google.colaboratory.intrinsic+json": {
              "type": "string"
            }
          },
          "metadata": {},
          "execution_count": 22
        }
      ]
    },
    {
      "cell_type": "code",
      "source": [
        "a = '\"Failure is simply the opportunity to begin again.\" he says.'\n",
        "a"
      ],
      "metadata": {
        "colab": {
          "base_uri": "https://localhost:8080/",
          "height": 35
        },
        "id": "4AUOodnWdxyf",
        "outputId": "28f83062-e2dc-450f-c67c-b6706b88a9de"
      },
      "execution_count": 29,
      "outputs": [
        {
          "output_type": "execute_result",
          "data": {
            "text/plain": [
              "'\"Failure is simply the opportunity to begin again.\" he says.'"
            ],
            "application/vnd.google.colaboratory.intrinsic+json": {
              "type": "string"
            }
          },
          "metadata": {},
          "execution_count": 29
        }
      ]
    },
    {
      "cell_type": "code",
      "source": [
        "a = \"\\\"Failure is simply the opportunity to begin again.\\\" he says.\"\n",
        "a"
      ],
      "metadata": {
        "colab": {
          "base_uri": "https://localhost:8080/",
          "height": 35
        },
        "id": "NDqj7dTqeIm_",
        "outputId": "84e96a2f-98e1-4637-813a-64c25359c372"
      },
      "execution_count": 31,
      "outputs": [
        {
          "output_type": "execute_result",
          "data": {
            "text/plain": [
              "'\"Failure is simply the opportunity to begin again.\" he says.'"
            ],
            "application/vnd.google.colaboratory.intrinsic+json": {
              "type": "string"
            }
          },
          "metadata": {},
          "execution_count": 31
        }
      ]
    },
    {
      "cell_type": "code",
      "source": [
        "a = \"L\"\n",
        "b = \"i\"\n",
        "c = \"f\"\n",
        "d = \"e\"\n",
        "a+b+c+d"
      ],
      "metadata": {
        "colab": {
          "base_uri": "https://localhost:8080/",
          "height": 35
        },
        "id": "T5eQCI4XegjC",
        "outputId": "e0b0e72d-8904-4b9a-b98b-238926b1de1c"
      },
      "execution_count": 32,
      "outputs": [
        {
          "output_type": "execute_result",
          "data": {
            "text/plain": [
              "'Life'"
            ],
            "application/vnd.google.colaboratory.intrinsic+json": {
              "type": "string"
            }
          },
          "metadata": {},
          "execution_count": 32
        }
      ]
    },
    {
      "cell_type": "code",
      "source": [
        "len(\"python\")"
      ],
      "metadata": {
        "colab": {
          "base_uri": "https://localhost:8080/"
        },
        "id": "MBqg4PeJeusY",
        "outputId": "acab8ed9-d71a-4f6c-bf15-b7cf0907ca5b"
      },
      "execution_count": 33,
      "outputs": [
        {
          "output_type": "execute_result",
          "data": {
            "text/plain": [
              "6"
            ]
          },
          "metadata": {},
          "execution_count": 33
        }
      ]
    },
    {
      "cell_type": "code",
      "source": [
        "# Indexing\n",
        "a = \"hello python!\"\n",
        "a"
      ],
      "metadata": {
        "colab": {
          "base_uri": "https://localhost:8080/",
          "height": 35
        },
        "id": "iqLbQZx2exY5",
        "outputId": "556f2f5d-5c49-4e0a-dfc6-604025d1fb0f"
      },
      "execution_count": 34,
      "outputs": [
        {
          "output_type": "execute_result",
          "data": {
            "text/plain": [
              "'hello python!'"
            ],
            "application/vnd.google.colaboratory.intrinsic+json": {
              "type": "string"
            }
          },
          "metadata": {},
          "execution_count": 34
        }
      ]
    },
    {
      "cell_type": "code",
      "source": [
        "a[0]"
      ],
      "metadata": {
        "colab": {
          "base_uri": "https://localhost:8080/",
          "height": 35
        },
        "id": "Ghawa6n5fDEi",
        "outputId": "3055ed6c-d929-4599-f1be-02d670fc8a75"
      },
      "execution_count": 36,
      "outputs": [
        {
          "output_type": "execute_result",
          "data": {
            "text/plain": [
              "'h'"
            ],
            "application/vnd.google.colaboratory.intrinsic+json": {
              "type": "string"
            }
          },
          "metadata": {},
          "execution_count": 36
        }
      ]
    },
    {
      "cell_type": "code",
      "source": [
        "a[6]"
      ],
      "metadata": {
        "colab": {
          "base_uri": "https://localhost:8080/",
          "height": 35
        },
        "id": "YevyqEawfOO3",
        "outputId": "53510e3f-6da8-4cf3-b475-0116997bc385"
      },
      "execution_count": 37,
      "outputs": [
        {
          "output_type": "execute_result",
          "data": {
            "text/plain": [
              "'p'"
            ],
            "application/vnd.google.colaboratory.intrinsic+json": {
              "type": "string"
            }
          },
          "metadata": {},
          "execution_count": 37
        }
      ]
    },
    {
      "cell_type": "code",
      "source": [
        "a[-1]"
      ],
      "metadata": {
        "colab": {
          "base_uri": "https://localhost:8080/",
          "height": 35
        },
        "id": "_r7IUq41fV8l",
        "outputId": "1feedd57-2da0-4026-9f25-4f7220f2a24b"
      },
      "execution_count": 38,
      "outputs": [
        {
          "output_type": "execute_result",
          "data": {
            "text/plain": [
              "'!'"
            ],
            "application/vnd.google.colaboratory.intrinsic+json": {
              "type": "string"
            }
          },
          "metadata": {},
          "execution_count": 38
        }
      ]
    },
    {
      "cell_type": "code",
      "source": [
        "a[0:4]  # 0 <= a < 4"
      ],
      "metadata": {
        "colab": {
          "base_uri": "https://localhost:8080/",
          "height": 35
        },
        "id": "TtgWFsHTfbJU",
        "outputId": "e0c033f4-dea0-4901-bd94-8f05105bbb96"
      },
      "execution_count": 43,
      "outputs": [
        {
          "output_type": "execute_result",
          "data": {
            "text/plain": [
              "'hell'"
            ],
            "application/vnd.google.colaboratory.intrinsic+json": {
              "type": "string"
            }
          },
          "metadata": {},
          "execution_count": 43
        }
      ]
    },
    {
      "cell_type": "code",
      "source": [
        "a[0:5]"
      ],
      "metadata": {
        "colab": {
          "base_uri": "https://localhost:8080/",
          "height": 35
        },
        "id": "jpoPwivgfzzE",
        "outputId": "28af19f4-da78-43f5-c6d0-b96affbea8d7"
      },
      "execution_count": 42,
      "outputs": [
        {
          "output_type": "execute_result",
          "data": {
            "text/plain": [
              "'hello'"
            ],
            "application/vnd.google.colaboratory.intrinsic+json": {
              "type": "string"
            }
          },
          "metadata": {},
          "execution_count": 42
        }
      ]
    },
    {
      "cell_type": "code",
      "source": [
        "a[:5]"
      ],
      "metadata": {
        "colab": {
          "base_uri": "https://localhost:8080/",
          "height": 35
        },
        "id": "9hKyPzpUgB0f",
        "outputId": "557046b4-7ed8-4b95-bd42-78b016d52210"
      },
      "execution_count": 45,
      "outputs": [
        {
          "output_type": "execute_result",
          "data": {
            "text/plain": [
              "'hello'"
            ],
            "application/vnd.google.colaboratory.intrinsic+json": {
              "type": "string"
            }
          },
          "metadata": {},
          "execution_count": 45
        }
      ]
    },
    {
      "cell_type": "code",
      "source": [
        "a[:]"
      ],
      "metadata": {
        "colab": {
          "base_uri": "https://localhost:8080/",
          "height": 35
        },
        "id": "bQilJuYJf9Fl",
        "outputId": "a07a169a-0f8a-4447-9f57-000dfebad938"
      },
      "execution_count": 46,
      "outputs": [
        {
          "output_type": "execute_result",
          "data": {
            "text/plain": [
              "'hello python!'"
            ],
            "application/vnd.google.colaboratory.intrinsic+json": {
              "type": "string"
            }
          },
          "metadata": {},
          "execution_count": 46
        }
      ]
    },
    {
      "cell_type": "code",
      "source": [
        "a[6:]"
      ],
      "metadata": {
        "colab": {
          "base_uri": "https://localhost:8080/",
          "height": 35
        },
        "id": "35XqZMgogFX0",
        "outputId": "0e7731fc-bd4b-4298-837b-a0d82c444eb3"
      },
      "execution_count": 48,
      "outputs": [
        {
          "output_type": "execute_result",
          "data": {
            "text/plain": [
              "'python!'"
            ],
            "application/vnd.google.colaboratory.intrinsic+json": {
              "type": "string"
            }
          },
          "metadata": {},
          "execution_count": 48
        }
      ]
    },
    {
      "cell_type": "code",
      "source": [
        "word = \"TitanicJames\"\n",
        "title = word[:7]  # 0 <= title < 7\n",
        "director = word[7:]  # 7 <= director < 12\n",
        "print(\"Title = \\'\" + title + \"'\")\n",
        "print(\"Director = \", director)"
      ],
      "metadata": {
        "colab": {
          "base_uri": "https://localhost:8080/"
        },
        "id": "q27bSZaTgIOl",
        "outputId": "503cc9f7-464b-4952-9c6b-3a83ad4918c2"
      },
      "execution_count": 78,
      "outputs": [
        {
          "output_type": "stream",
          "name": "stdout",
          "text": [
            "Title = 'Titanic'\n",
            "Director =  James\n"
          ]
        }
      ]
    },
    {
      "cell_type": "code",
      "source": [
        "len"
      ],
      "metadata": {
        "colab": {
          "base_uri": "https://localhost:8080/"
        },
        "id": "CA-jDmbHgeNv",
        "outputId": "dadb7aba-1f04-4c90-f9dd-95957322448d"
      },
      "execution_count": 55,
      "outputs": [
        {
          "output_type": "execute_result",
          "data": {
            "text/plain": [
              "12"
            ]
          },
          "metadata": {},
          "execution_count": 55
        }
      ]
    },
    {
      "cell_type": "markdown",
      "source": [
        "### 3. 리스트형(List)\n",
        "- 여러개의 변수를 한번에 담아둘 수 없을까? 라는 고민에서 나온 데이터 타입\n",
        "- [  ] 대괄호로 생성한다."
      ],
      "metadata": {
        "id": "om4TLQGSiZah"
      }
    },
    {
      "cell_type": "code",
      "source": [
        "x = [1,2,3,4,5]\n",
        "x"
      ],
      "metadata": {
        "colab": {
          "base_uri": "https://localhost:8080/"
        },
        "id": "g8W737lHhGcT",
        "outputId": "ba7016cb-08b5-478e-f89e-10d711662374"
      },
      "execution_count": 74,
      "outputs": [
        {
          "output_type": "execute_result",
          "data": {
            "text/plain": [
              "[1, 2, 3, 4, 5]"
            ]
          },
          "metadata": {},
          "execution_count": 74
        }
      ]
    },
    {
      "cell_type": "code",
      "source": [
        "# Indexing\n",
        "x[0]"
      ],
      "metadata": {
        "colab": {
          "base_uri": "https://localhost:8080/"
        },
        "id": "XY5yH7BiivLn",
        "outputId": "ad4a1089-0623-4c21-8dbe-6be223a7123a"
      },
      "execution_count": 75,
      "outputs": [
        {
          "output_type": "execute_result",
          "data": {
            "text/plain": [
              "1"
            ]
          },
          "metadata": {},
          "execution_count": 75
        }
      ]
    },
    {
      "cell_type": "code",
      "source": [
        "x = [\"a\", \"b\", \"c\", [\"d\",\"e\"]]\n",
        "x"
      ],
      "metadata": {
        "colab": {
          "base_uri": "https://localhost:8080/"
        },
        "id": "t5yhZat6i45Q",
        "outputId": "e979b081-b783-4182-f4a3-8a2a36859acb"
      },
      "execution_count": 69,
      "outputs": [
        {
          "output_type": "execute_result",
          "data": {
            "text/plain": [
              "['a', 'b', 'c', ['d', 'e']]"
            ]
          },
          "metadata": {},
          "execution_count": 69
        }
      ]
    },
    {
      "cell_type": "code",
      "source": [
        "x[0]"
      ],
      "metadata": {
        "colab": {
          "base_uri": "https://localhost:8080/",
          "height": 35
        },
        "id": "MuOWi_cijWFi",
        "outputId": "deeb52a0-79a4-41e2-9ae2-7d48d72a92d3"
      },
      "execution_count": 70,
      "outputs": [
        {
          "output_type": "execute_result",
          "data": {
            "text/plain": [
              "'a'"
            ],
            "application/vnd.google.colaboratory.intrinsic+json": {
              "type": "string"
            }
          },
          "metadata": {},
          "execution_count": 70
        }
      ]
    },
    {
      "cell_type": "code",
      "source": [
        "x[3]"
      ],
      "metadata": {
        "colab": {
          "base_uri": "https://localhost:8080/"
        },
        "id": "fpjfiYCzjdlU",
        "outputId": "a6f32593-89ab-4923-e11e-07663e6554ca"
      },
      "execution_count": 71,
      "outputs": [
        {
          "output_type": "execute_result",
          "data": {
            "text/plain": [
              "['d', 'e']"
            ]
          },
          "metadata": {},
          "execution_count": 71
        }
      ]
    },
    {
      "cell_type": "code",
      "source": [
        "x[3][0]"
      ],
      "metadata": {
        "colab": {
          "base_uri": "https://localhost:8080/",
          "height": 35
        },
        "id": "3Kyse-GPjiG-",
        "outputId": "19ac644c-58ea-4876-bd00-a67f449e19cb"
      },
      "execution_count": 72,
      "outputs": [
        {
          "output_type": "execute_result",
          "data": {
            "text/plain": [
              "'d'"
            ],
            "application/vnd.google.colaboratory.intrinsic+json": {
              "type": "string"
            }
          },
          "metadata": {},
          "execution_count": 72
        }
      ]
    },
    {
      "cell_type": "markdown",
      "source": [
        "### 4. 딕셔너리형(Dict)\n",
        "# - 중괄호 안에 Key 와 Value 구성"
      ],
      "metadata": {
        "id": "SwXuQUbGnbJP"
      }
    },
    {
      "cell_type": "markdown",
      "source": [
        "### 5. 불형(Boolean)"
      ],
      "metadata": {
        "id": "v6cnK1ianxGa"
      }
    },
    {
      "cell_type": "code",
      "source": [
        "1 > 100"
      ],
      "metadata": {
        "colab": {
          "base_uri": "https://localhost:8080/"
        },
        "id": "_5E_AzZ1jlKh",
        "outputId": "656593cd-14c5-487e-aedc-8afbb0a0ce8a"
      },
      "execution_count": 79,
      "outputs": [
        {
          "output_type": "execute_result",
          "data": {
            "text/plain": [
              "False"
            ]
          },
          "metadata": {},
          "execution_count": 79
        }
      ]
    },
    {
      "cell_type": "code",
      "source": [
        "1 < 100"
      ],
      "metadata": {
        "colab": {
          "base_uri": "https://localhost:8080/"
        },
        "id": "t0mtEHJdn4ZW",
        "outputId": "8cb0ebc2-c783-4eb1-d486-60be0bda2c67"
      },
      "execution_count": 80,
      "outputs": [
        {
          "output_type": "execute_result",
          "data": {
            "text/plain": [
              "True"
            ]
          },
          "metadata": {},
          "execution_count": 80
        }
      ]
    },
    {
      "cell_type": "markdown",
      "source": [
        "## 제어문\n",
        "- if (조건문)\n",
        "- for (반복문)\n",
        "- while (반복문)"
      ],
      "metadata": {
        "id": "6fukq1KNoKns"
      }
    },
    {
      "cell_type": "markdown",
      "source": [
        "### 1. 조건문(if)\n",
        "- if, 만약 -- 이라면."
      ],
      "metadata": {
        "id": "kmhrSSmNoY6O"
      }
    },
    {
      "cell_type": "code",
      "source": [
        "number = 1\n",
        "\n",
        "if number < 5 :\n",
        "  print(\"숫자가 5보다 작습니다.\")"
      ],
      "metadata": {
        "colab": {
          "base_uri": "https://localhost:8080/"
        },
        "id": "32YneHXHn5o1",
        "outputId": "9d6ce38d-0f62-4374-928d-fac283aa09e7"
      },
      "execution_count": 81,
      "outputs": [
        {
          "output_type": "stream",
          "name": "stdout",
          "text": [
            "숫자가 5보다 작습니다.\n"
          ]
        }
      ]
    },
    {
      "cell_type": "code",
      "source": [
        "number < 5"
      ],
      "metadata": {
        "colab": {
          "base_uri": "https://localhost:8080/"
        },
        "id": "dBdJ6OAAo9QV",
        "outputId": "6e63bec5-dcd4-40fc-85e1-e89d8a894172"
      },
      "execution_count": 82,
      "outputs": [
        {
          "output_type": "execute_result",
          "data": {
            "text/plain": [
              "True"
            ]
          },
          "metadata": {},
          "execution_count": 82
        }
      ]
    },
    {
      "cell_type": "code",
      "source": [
        "number = int(input(\"숫자를 입력하세요 : \"))\n",
        "type(number)  # str\n",
        "\n",
        "if number < 5 :\n",
        "  print(\"숫자가 5보다 작습니다.\")\n",
        "elif number < 10 :\n",
        "  print(\"숫자가 5보다 크고 10보다 작습니다.\")\n",
        "else :\n",
        "  print(\"숫자가 10보다 큽니다.\")"
      ],
      "metadata": {
        "colab": {
          "base_uri": "https://localhost:8080/"
        },
        "id": "D-AW2E-5pHRd",
        "outputId": "53afa75e-c06e-4af3-9be7-ea06482df653"
      },
      "execution_count": 100,
      "outputs": [
        {
          "output_type": "stream",
          "name": "stdout",
          "text": [
            "숫자를 입력하세요 : 1\n",
            "숫자가 5보다 작습니다.\n"
          ]
        }
      ]
    },
    {
      "cell_type": "code",
      "source": [
        "money = int(input(\"숫자를 입력하세요 : \"))\n",
        "\n",
        "if money >= 70000 :\n",
        "  print(\"비행기를 타세요.\")\n",
        "elif money >= 50000 :\n",
        "  print(\"기차를 타세요.\")\n",
        "elif money >= 30000 :\n",
        "  print(\"버스를 타세요.\")\n",
        "else :\n",
        "  print(\"걸어가세요.\")\n"
      ],
      "metadata": {
        "colab": {
          "base_uri": "https://localhost:8080/"
        },
        "id": "fkGf72DfpxoM",
        "outputId": "3dd0e05c-3718-4897-d393-a4bc723798d2"
      },
      "execution_count": 99,
      "outputs": [
        {
          "output_type": "stream",
          "name": "stdout",
          "text": [
            "숫자를 입력하세요 : 29999\n",
            "걸어가세요.\n"
          ]
        }
      ]
    },
    {
      "cell_type": "markdown",
      "source": [
        "### 2. 반복문(for)\n",
        "\n",
        "- 반복적인 행위를 할 때 사용"
      ],
      "metadata": {
        "id": "wXdKeHfyt-7d"
      }
    },
    {
      "cell_type": "code",
      "source": [
        "for i in range(10) :   # 10 번 반복\n",
        "  print(i, \"hello world\")"
      ],
      "metadata": {
        "colab": {
          "base_uri": "https://localhost:8080/"
        },
        "id": "z0Ch9L_itdpq",
        "outputId": "ce195f94-d0d2-4f45-8aec-a9e59b97fd36"
      },
      "execution_count": 119,
      "outputs": [
        {
          "output_type": "stream",
          "name": "stdout",
          "text": [
            "0 hello world\n",
            "1 hello world\n",
            "2 hello world\n",
            "3 hello world\n",
            "4 hello world\n",
            "5 hello world\n",
            "6 hello world\n",
            "7 hello world\n",
            "8 hello world\n",
            "9 hello world\n"
          ]
        }
      ]
    },
    {
      "cell_type": "code",
      "source": [
        "range(10)  # 0-9 까지의 숫자"
      ],
      "metadata": {
        "colab": {
          "base_uri": "https://localhost:8080/"
        },
        "id": "4gsdQAB8uKMt",
        "outputId": "fca59a0b-2fe2-423e-cb5f-4ed4a473779e"
      },
      "execution_count": 118,
      "outputs": [
        {
          "output_type": "execute_result",
          "data": {
            "text/plain": [
              "range(0, 10)"
            ]
          },
          "metadata": {},
          "execution_count": 118
        }
      ]
    },
    {
      "cell_type": "code",
      "source": [
        "for i in \"python\" :\n",
        "  print(i)"
      ],
      "metadata": {
        "colab": {
          "base_uri": "https://localhost:8080/"
        },
        "id": "SFm5iZn3uln7",
        "outputId": "ac4cc582-0a7e-45ae-f4e1-2e77e7ce3be1"
      },
      "execution_count": 121,
      "outputs": [
        {
          "output_type": "stream",
          "name": "stdout",
          "text": [
            "p\n",
            "y\n",
            "t\n",
            "h\n",
            "o\n",
            "n\n"
          ]
        }
      ]
    },
    {
      "cell_type": "code",
      "source": [
        "cities = [\"seoul\", \"daejeon\", \"daegu\", \"busan\"]\n",
        "\n",
        "for i in cities :\n",
        "  print(i)"
      ],
      "metadata": {
        "colab": {
          "base_uri": "https://localhost:8080/"
        },
        "id": "OQE3j2Mbu6Km",
        "outputId": "5f602b5d-2dfe-4506-c413-073cd45e4cfe"
      },
      "execution_count": 122,
      "outputs": [
        {
          "output_type": "stream",
          "name": "stdout",
          "text": [
            "seoul\n",
            "daejeon\n",
            "daegu\n",
            "busan\n"
          ]
        }
      ]
    },
    {
      "cell_type": "code",
      "source": [
        "for city in cities :\n",
        "  print(city)\n",
        "  if city == \"seoul\" :\n",
        "     print(\"표준말\")\n",
        "  elif city == \"busan\" :\n",
        "     print(\"사투리\")"
      ],
      "metadata": {
        "colab": {
          "base_uri": "https://localhost:8080/"
        },
        "id": "EkqlvAw9vMFl",
        "outputId": "4aefa7b6-8498-4f48-c98c-65ca53dd5e70"
      },
      "execution_count": 127,
      "outputs": [
        {
          "output_type": "stream",
          "name": "stdout",
          "text": [
            "seoul\n",
            "표준말\n",
            "daejeon\n",
            "daegu\n",
            "busan\n",
            "사투리\n"
          ]
        }
      ]
    },
    {
      "cell_type": "code",
      "source": [
        "for i in range(5) :\n",
        "  print(i)\n",
        "else:\n",
        "  print(\"finish !\")\n",
        "   "
      ],
      "metadata": {
        "colab": {
          "base_uri": "https://localhost:8080/"
        },
        "id": "eCQEtGjLvhEp",
        "outputId": "1175a58c-0231-4444-b776-7df2c54fb29c"
      },
      "execution_count": 131,
      "outputs": [
        {
          "output_type": "stream",
          "name": "stdout",
          "text": [
            "0\n",
            "1\n",
            "2\n",
            "3\n",
            "4\n",
            "finish !\n"
          ]
        }
      ]
    },
    {
      "cell_type": "code",
      "source": [
        "# 구구단 전체를 표현하시오\n",
        "\n",
        "for i in range(1,10) :\n",
        "  print(\"[\", i, \"단 ]\")\n",
        "  for j in range(1, 10):\n",
        "    print(i,\"*\",j,\"=\", i*j)\n",
        "  else:\n",
        "    print('\\n')  "
      ],
      "metadata": {
        "colab": {
          "base_uri": "https://localhost:8080/"
        },
        "id": "FE3AMYbTv6Ib",
        "outputId": "693d18fe-b14a-4f97-fdf2-86129fc737dd"
      },
      "execution_count": 141,
      "outputs": [
        {
          "output_type": "stream",
          "name": "stdout",
          "text": [
            "[ 1 단 ]\n",
            "1 * 1 = 1\n",
            "1 * 2 = 2\n",
            "1 * 3 = 3\n",
            "1 * 4 = 4\n",
            "1 * 5 = 5\n",
            "1 * 6 = 6\n",
            "1 * 7 = 7\n",
            "1 * 8 = 8\n",
            "1 * 9 = 9\n",
            "\n",
            "\n",
            "[ 2 단 ]\n",
            "2 * 1 = 2\n",
            "2 * 2 = 4\n",
            "2 * 3 = 6\n",
            "2 * 4 = 8\n",
            "2 * 5 = 10\n",
            "2 * 6 = 12\n",
            "2 * 7 = 14\n",
            "2 * 8 = 16\n",
            "2 * 9 = 18\n",
            "\n",
            "\n",
            "[ 3 단 ]\n",
            "3 * 1 = 3\n",
            "3 * 2 = 6\n",
            "3 * 3 = 9\n",
            "3 * 4 = 12\n",
            "3 * 5 = 15\n",
            "3 * 6 = 18\n",
            "3 * 7 = 21\n",
            "3 * 8 = 24\n",
            "3 * 9 = 27\n",
            "\n",
            "\n",
            "[ 4 단 ]\n",
            "4 * 1 = 4\n",
            "4 * 2 = 8\n",
            "4 * 3 = 12\n",
            "4 * 4 = 16\n",
            "4 * 5 = 20\n",
            "4 * 6 = 24\n",
            "4 * 7 = 28\n",
            "4 * 8 = 32\n",
            "4 * 9 = 36\n",
            "\n",
            "\n",
            "[ 5 단 ]\n",
            "5 * 1 = 5\n",
            "5 * 2 = 10\n",
            "5 * 3 = 15\n",
            "5 * 4 = 20\n",
            "5 * 5 = 25\n",
            "5 * 6 = 30\n",
            "5 * 7 = 35\n",
            "5 * 8 = 40\n",
            "5 * 9 = 45\n",
            "\n",
            "\n",
            "[ 6 단 ]\n",
            "6 * 1 = 6\n",
            "6 * 2 = 12\n",
            "6 * 3 = 18\n",
            "6 * 4 = 24\n",
            "6 * 5 = 30\n",
            "6 * 6 = 36\n",
            "6 * 7 = 42\n",
            "6 * 8 = 48\n",
            "6 * 9 = 54\n",
            "\n",
            "\n",
            "[ 7 단 ]\n",
            "7 * 1 = 7\n",
            "7 * 2 = 14\n",
            "7 * 3 = 21\n",
            "7 * 4 = 28\n",
            "7 * 5 = 35\n",
            "7 * 6 = 42\n",
            "7 * 7 = 49\n",
            "7 * 8 = 56\n",
            "7 * 9 = 63\n",
            "\n",
            "\n",
            "[ 8 단 ]\n",
            "8 * 1 = 8\n",
            "8 * 2 = 16\n",
            "8 * 3 = 24\n",
            "8 * 4 = 32\n",
            "8 * 5 = 40\n",
            "8 * 6 = 48\n",
            "8 * 7 = 56\n",
            "8 * 8 = 64\n",
            "8 * 9 = 72\n",
            "\n",
            "\n",
            "[ 9 단 ]\n",
            "9 * 1 = 9\n",
            "9 * 2 = 18\n",
            "9 * 3 = 27\n",
            "9 * 4 = 36\n",
            "9 * 5 = 45\n",
            "9 * 6 = 54\n",
            "9 * 7 = 63\n",
            "9 * 8 = 72\n",
            "9 * 9 = 81\n",
            "\n",
            "\n"
          ]
        }
      ]
    },
    {
      "cell_type": "code",
      "source": [
        "# continue, break\n",
        "\n",
        "for i in range(10):\n",
        "  if 3 <= i <= 5:\n",
        "    continue    # 해당 반복문을 여기까지 실행하시오.\n",
        "    \n",
        "  print(i)"
      ],
      "metadata": {
        "colab": {
          "base_uri": "https://localhost:8080/"
        },
        "id": "3JshWc4wwVOe",
        "outputId": "d990ea25-1e6e-43a0-8282-5266fd0f013a"
      },
      "execution_count": 142,
      "outputs": [
        {
          "output_type": "stream",
          "name": "stdout",
          "text": [
            "0\n",
            "1\n",
            "2\n",
            "6\n",
            "7\n",
            "8\n",
            "9\n"
          ]
        }
      ]
    },
    {
      "cell_type": "code",
      "source": [
        "for i in range(10):\n",
        "  if 3 <= i <= 5:\n",
        "    break    # 반복문을 멈추시오\n",
        "    \n",
        "  print(i)"
      ],
      "metadata": {
        "colab": {
          "base_uri": "https://localhost:8080/"
        },
        "id": "HsahEi4FyGW8",
        "outputId": "740779a6-53d9-4827-b1d4-88a787589e85"
      },
      "execution_count": 143,
      "outputs": [
        {
          "output_type": "stream",
          "name": "stdout",
          "text": [
            "0\n",
            "1\n",
            "2\n"
          ]
        }
      ]
    },
    {
      "cell_type": "markdown",
      "source": [
        "## 파이썬 내장함수 / 외장함수\n",
        "\n",
        "- 내장함수 (Built-in Function)\n",
        "- 외장함수 (External Function) ==> import 를 통해서 외부에서 불러온다."
      ],
      "metadata": {
        "id": "sJHDmU_YEVJF"
      }
    },
    {
      "cell_type": "code",
      "source": [
        "abs(-100)  # 절대값"
      ],
      "metadata": {
        "colab": {
          "base_uri": "https://localhost:8080/"
        },
        "id": "aCQGK8UJyWl5",
        "outputId": "f52a284b-b9d0-4c68-d119-a4dff7e95ba6"
      },
      "execution_count": 144,
      "outputs": [
        {
          "output_type": "execute_result",
          "data": {
            "text/plain": [
              "100"
            ]
          },
          "metadata": {},
          "execution_count": 144
        }
      ]
    },
    {
      "cell_type": "code",
      "source": [
        "a = \"python\"\n",
        "b = a.upper()   # 대문자\n",
        "b"
      ],
      "metadata": {
        "colab": {
          "base_uri": "https://localhost:8080/",
          "height": 35
        },
        "id": "8mgNIwyrE2I1",
        "outputId": "15d76b48-8f3b-4293-9042-48e7a69342e9"
      },
      "execution_count": 145,
      "outputs": [
        {
          "output_type": "execute_result",
          "data": {
            "text/plain": [
              "'PYTHON'"
            ],
            "application/vnd.google.colaboratory.intrinsic+json": {
              "type": "string"
            }
          },
          "metadata": {},
          "execution_count": 145
        }
      ]
    },
    {
      "cell_type": "code",
      "source": [
        "c = 'PYTHON'\n",
        "d = c.lower()   # 소문자\n",
        "d"
      ],
      "metadata": {
        "colab": {
          "base_uri": "https://localhost:8080/",
          "height": 35
        },
        "id": "q8XS5NYyFEay",
        "outputId": "8b65d696-f4f0-469f-b332-7aabe92731ab"
      },
      "execution_count": 147,
      "outputs": [
        {
          "output_type": "execute_result",
          "data": {
            "text/plain": [
              "'python'"
            ],
            "application/vnd.google.colaboratory.intrinsic+json": {
              "type": "string"
            }
          },
          "metadata": {},
          "execution_count": 147
        }
      ]
    },
    {
      "cell_type": "code",
      "source": [
        "int(\"100\")"
      ],
      "metadata": {
        "colab": {
          "base_uri": "https://localhost:8080/"
        },
        "id": "MRbuDZf9FNXe",
        "outputId": "7af20ed3-0308-4141-d180-58ad65773077"
      },
      "execution_count": 148,
      "outputs": [
        {
          "output_type": "execute_result",
          "data": {
            "text/plain": [
              "100"
            ]
          },
          "metadata": {},
          "execution_count": 148
        }
      ]
    },
    {
      "cell_type": "code",
      "source": [
        "str(100)"
      ],
      "metadata": {
        "colab": {
          "base_uri": "https://localhost:8080/",
          "height": 35
        },
        "id": "INTm5GErFUAL",
        "outputId": "617f6cae-90a6-47e8-e8d0-96169287a8ea"
      },
      "execution_count": 149,
      "outputs": [
        {
          "output_type": "execute_result",
          "data": {
            "text/plain": [
              "'100'"
            ],
            "application/vnd.google.colaboratory.intrinsic+json": {
              "type": "string"
            }
          },
          "metadata": {},
          "execution_count": 149
        }
      ]
    },
    {
      "cell_type": "code",
      "source": [
        "\",\".join(\"korea\")"
      ],
      "metadata": {
        "colab": {
          "base_uri": "https://localhost:8080/",
          "height": 35
        },
        "id": "ARjCp5pWFWw5",
        "outputId": "2c286e32-6e95-47ab-9ef4-f344118a671f"
      },
      "execution_count": 150,
      "outputs": [
        {
          "output_type": "execute_result",
          "data": {
            "text/plain": [
              "'k,o,r,e,a'"
            ],
            "application/vnd.google.colaboratory.intrinsic+json": {
              "type": "string"
            }
          },
          "metadata": {},
          "execution_count": 150
        }
      ]
    },
    {
      "cell_type": "code",
      "source": [
        "\"===\".join(\"korea\")"
      ],
      "metadata": {
        "colab": {
          "base_uri": "https://localhost:8080/",
          "height": 35
        },
        "id": "wR2FukhWFiDe",
        "outputId": "00d58182-ca56-4e51-a943-00fa648f8fb4"
      },
      "execution_count": 151,
      "outputs": [
        {
          "output_type": "execute_result",
          "data": {
            "text/plain": [
              "'k===o===r===e===a'"
            ],
            "application/vnd.google.colaboratory.intrinsic+json": {
              "type": "string"
            }
          },
          "metadata": {},
          "execution_count": 151
        }
      ]
    },
    {
      "cell_type": "code",
      "source": [
        "countries = [\"korea\", \"america\", \"japan\", \"china\"]\n",
        "\n",
        "word = \"_\".join(countries)\n",
        "word"
      ],
      "metadata": {
        "colab": {
          "base_uri": "https://localhost:8080/",
          "height": 35
        },
        "id": "0K0mNC8uFmKU",
        "outputId": "3d569d17-b387-4937-f07c-7b8618b5f24d"
      },
      "execution_count": 156,
      "outputs": [
        {
          "output_type": "execute_result",
          "data": {
            "text/plain": [
              "'korea_america_japan_china'"
            ],
            "application/vnd.google.colaboratory.intrinsic+json": {
              "type": "string"
            }
          },
          "metadata": {},
          "execution_count": 156
        }
      ]
    },
    {
      "cell_type": "code",
      "source": [
        "word2 = word.split(\"_\")\n",
        "word2"
      ],
      "metadata": {
        "colab": {
          "base_uri": "https://localhost:8080/"
        },
        "id": "CU7uJOwAF125",
        "outputId": "ef28f386-d8a5-46e3-8b30-4c5244fe4f0b"
      },
      "execution_count": 157,
      "outputs": [
        {
          "output_type": "execute_result",
          "data": {
            "text/plain": [
              "['korea', 'america', 'japan', 'china']"
            ]
          },
          "metadata": {},
          "execution_count": 157
        }
      ]
    },
    {
      "cell_type": "code",
      "source": [
        "weight = \"10kg,20kg,30kg,40kg\"\n",
        "weight_list = weight.split(\",\")\n",
        "weight_list"
      ],
      "metadata": {
        "colab": {
          "base_uri": "https://localhost:8080/"
        },
        "id": "RcuyhhggGPQ7",
        "outputId": "99fa632d-e6e5-43c4-ab98-2eea15256a55"
      },
      "execution_count": 164,
      "outputs": [
        {
          "output_type": "execute_result",
          "data": {
            "text/plain": [
              "['10kg', '20kg', '30kg', '40kg']"
            ]
          },
          "metadata": {},
          "execution_count": 164
        }
      ]
    },
    {
      "cell_type": "code",
      "source": [
        "for i in weight_list:\n",
        "  print(i)"
      ],
      "metadata": {
        "colab": {
          "base_uri": "https://localhost:8080/"
        },
        "id": "mxnQbuMBGZq6",
        "outputId": "51e9de5c-fddf-4c44-d8de-1038b37fa98a"
      },
      "execution_count": 165,
      "outputs": [
        {
          "output_type": "stream",
          "name": "stdout",
          "text": [
            "10kg\n",
            "20kg\n",
            "30kg\n",
            "40kg\n"
          ]
        }
      ]
    },
    {
      "cell_type": "code",
      "source": [
        "word = 'python'\n",
        "\n",
        "print('I love ' + word)"
      ],
      "metadata": {
        "colab": {
          "base_uri": "https://localhost:8080/"
        },
        "id": "nWwRZ8QUGjDB",
        "outputId": "6b6e29fa-13c3-43cf-d50b-6218432c47bf"
      },
      "execution_count": 166,
      "outputs": [
        {
          "output_type": "stream",
          "name": "stdout",
          "text": [
            "I love python\n"
          ]
        }
      ]
    },
    {
      "cell_type": "code",
      "source": [
        "word = 'python'\n",
        "\n",
        "print('I love {}'.format(word))"
      ],
      "metadata": {
        "colab": {
          "base_uri": "https://localhost:8080/"
        },
        "id": "yQ8XNA3AG53U",
        "outputId": "be102af3-2859-450c-ebf6-33a585425666"
      },
      "execution_count": 167,
      "outputs": [
        {
          "output_type": "stream",
          "name": "stdout",
          "text": [
            "I love python\n"
          ]
        }
      ]
    },
    {
      "cell_type": "code",
      "source": [
        "name = \"Kim\"\n",
        "age = 20\n",
        "city = \"seoul\"\n",
        "\n",
        "print(\"My name is {}, I'm {} years old, I live in {}\".format(name,age, city))"
      ],
      "metadata": {
        "colab": {
          "base_uri": "https://localhost:8080/"
        },
        "id": "6Zt-_N1UHEXo",
        "outputId": "a371ff58-4b9f-4bb0-8b4a-c19bbb4e8e56"
      },
      "execution_count": 169,
      "outputs": [
        {
          "output_type": "stream",
          "name": "stdout",
          "text": [
            "My name is Kim, I'm 20 years old, I live in seoul\n"
          ]
        }
      ]
    },
    {
      "cell_type": "markdown",
      "source": [
        "### 외장함수"
      ],
      "metadata": {
        "id": "W1BPLUxnHlpU"
      }
    },
    {
      "cell_type": "code",
      "source": [
        "import random\n",
        "\n",
        "random.random()"
      ],
      "metadata": {
        "colab": {
          "base_uri": "https://localhost:8080/"
        },
        "id": "K2BOmmQhHgui",
        "outputId": "abaa93be-d05a-4725-b105-32677db42151"
      },
      "execution_count": 171,
      "outputs": [
        {
          "output_type": "execute_result",
          "data": {
            "text/plain": [
              "0.8346694809501463"
            ]
          },
          "metadata": {},
          "execution_count": 171
        }
      ]
    },
    {
      "cell_type": "code",
      "source": [
        "random.randint(1,10)   # 1-10 사이의 숫자를 랜덤으로 보여 줘"
      ],
      "metadata": {
        "colab": {
          "base_uri": "https://localhost:8080/"
        },
        "id": "6NTa0YYIHtIH",
        "outputId": "05c8a761-da8e-422c-ae45-08360915ab38"
      },
      "execution_count": 173,
      "outputs": [
        {
          "output_type": "execute_result",
          "data": {
            "text/plain": [
              "4"
            ]
          },
          "metadata": {},
          "execution_count": 173
        }
      ]
    },
    {
      "cell_type": "code",
      "source": [
        "a = [1,2,3,4,5]\n",
        "random.choice(a)"
      ],
      "metadata": {
        "colab": {
          "base_uri": "https://localhost:8080/"
        },
        "id": "BjoCofjGHzr0",
        "outputId": "2e6b799a-fbcc-4285-88f9-cd4980300367"
      },
      "execution_count": 175,
      "outputs": [
        {
          "output_type": "execute_result",
          "data": {
            "text/plain": [
              "2"
            ]
          },
          "metadata": {},
          "execution_count": 175
        }
      ]
    },
    {
      "cell_type": "code",
      "source": [
        "a = [1,1,1,1,1,1,1,1,2,2,2,2,3,3,3,4,4,5]\n",
        "random.choice(a)"
      ],
      "metadata": {
        "colab": {
          "base_uri": "https://localhost:8080/"
        },
        "id": "keGlRUkjH-tZ",
        "outputId": "7b54dcad-718d-4003-8516-bf766458098c"
      },
      "execution_count": 179,
      "outputs": [
        {
          "output_type": "execute_result",
          "data": {
            "text/plain": [
              "1"
            ]
          },
          "metadata": {},
          "execution_count": 179
        }
      ]
    },
    {
      "cell_type": "code",
      "source": [
        "# sys\n",
        "\n",
        "import sys\n",
        "\n",
        "sys.argv\n",
        "sys.path"
      ],
      "metadata": {
        "colab": {
          "base_uri": "https://localhost:8080/"
        },
        "id": "8W0caqy4IIYL",
        "outputId": "c3f20b6d-08bc-492e-c155-2d54c7b37a4d"
      },
      "execution_count": 181,
      "outputs": [
        {
          "output_type": "execute_result",
          "data": {
            "text/plain": [
              "['/content',\n",
              " '/env/python',\n",
              " '/usr/lib/python310.zip',\n",
              " '/usr/lib/python3.10',\n",
              " '/usr/lib/python3.10/lib-dynload',\n",
              " '',\n",
              " '/usr/local/lib/python3.10/dist-packages',\n",
              " '/usr/lib/python3/dist-packages',\n",
              " '/usr/local/lib/python3.10/dist-packages/IPython/extensions',\n",
              " '/root/.ipython']"
            ]
          },
          "metadata": {},
          "execution_count": 181
        }
      ]
    },
    {
      "cell_type": "code",
      "source": [
        "sys.version"
      ],
      "metadata": {
        "colab": {
          "base_uri": "https://localhost:8080/",
          "height": 35
        },
        "id": "yfwtYnCeIRtr",
        "outputId": "931a2115-35af-4bfa-e2ea-e9f105a4af00"
      },
      "execution_count": 182,
      "outputs": [
        {
          "output_type": "execute_result",
          "data": {
            "text/plain": [
              "'3.10.11 (main, Apr  5 2023, 14:15:10) [GCC 9.4.0]'"
            ],
            "application/vnd.google.colaboratory.intrinsic+json": {
              "type": "string"
            }
          },
          "metadata": {},
          "execution_count": 182
        }
      ]
    },
    {
      "cell_type": "code",
      "source": [
        "if sys.version < \"3.10\" :\n",
        "   print(\"파이썬을 업데이트 하세요\")"
      ],
      "metadata": {
        "id": "KhaP-3mpIZbH"
      },
      "execution_count": 192,
      "outputs": []
    },
    {
      "cell_type": "code",
      "source": [
        "# CS\n",
        "\n",
        "import os\n",
        "\n",
        "os.getcwd()   # get current working directory "
      ],
      "metadata": {
        "colab": {
          "base_uri": "https://localhost:8080/",
          "height": 35
        },
        "id": "Nl5gbir2Ipsn",
        "outputId": "cfa1bd9c-978c-4fee-dcd3-ea84013a211a"
      },
      "execution_count": 185,
      "outputs": [
        {
          "output_type": "execute_result",
          "data": {
            "text/plain": [
              "'/content'"
            ],
            "application/vnd.google.colaboratory.intrinsic+json": {
              "type": "string"
            }
          },
          "metadata": {},
          "execution_count": 185
        }
      ]
    },
    {
      "cell_type": "code",
      "source": [
        "os.mkdir(\"새로운폴더생성\")"
      ],
      "metadata": {
        "id": "cOKjNmKQIwqx"
      },
      "execution_count": 186,
      "outputs": []
    },
    {
      "cell_type": "code",
      "source": [
        "os.rename(\"새로운폴더생성\", \"New folder\")"
      ],
      "metadata": {
        "id": "qx-Qf14eI-5N"
      },
      "execution_count": 187,
      "outputs": []
    },
    {
      "cell_type": "code",
      "source": [
        "import time"
      ],
      "metadata": {
        "id": "wrTIBQp_JO07"
      },
      "execution_count": 188,
      "outputs": []
    },
    {
      "cell_type": "code",
      "source": [
        "time.time()   # UTC 시간을 실수값으로 나타낸 것"
      ],
      "metadata": {
        "colab": {
          "base_uri": "https://localhost:8080/"
        },
        "id": "CtEnGpkoJWwi",
        "outputId": "4770ea17-6aae-4f98-f9e7-40ba919a257b"
      },
      "execution_count": 189,
      "outputs": [
        {
          "output_type": "execute_result",
          "data": {
            "text/plain": [
              "1686196561.6421127"
            ]
          },
          "metadata": {},
          "execution_count": 189
        }
      ]
    },
    {
      "cell_type": "code",
      "source": [
        "time.localtime(time.time())"
      ],
      "metadata": {
        "colab": {
          "base_uri": "https://localhost:8080/"
        },
        "id": "y-Ogoe9kJaM4",
        "outputId": "7c444367-5e1f-420b-f89d-d86c878f32ac"
      },
      "execution_count": 191,
      "outputs": [
        {
          "output_type": "execute_result",
          "data": {
            "text/plain": [
              "time.struct_time(tm_year=2023, tm_mon=6, tm_mday=8, tm_hour=3, tm_min=57, tm_sec=19, tm_wday=3, tm_yday=159, tm_isdst=0)"
            ]
          },
          "metadata": {},
          "execution_count": 191
        }
      ]
    },
    {
      "cell_type": "code",
      "source": [
        "import numpy as np\n",
        "\n",
        "a = np.array([[1,2,3],[4,5,6]])"
      ],
      "metadata": {
        "id": "4GbiABrHJo6R"
      },
      "execution_count": 202,
      "outputs": []
    },
    {
      "cell_type": "code",
      "source": [
        "a"
      ],
      "metadata": {
        "colab": {
          "base_uri": "https://localhost:8080/"
        },
        "id": "_L90kxr6L60F",
        "outputId": "73c52a31-5a45-49e9-f4cc-a74411f00e30"
      },
      "execution_count": 203,
      "outputs": [
        {
          "output_type": "execute_result",
          "data": {
            "text/plain": [
              "array([[1, 2, 3],\n",
              "       [4, 5, 6]])"
            ]
          },
          "metadata": {},
          "execution_count": 203
        }
      ]
    },
    {
      "cell_type": "code",
      "source": [
        "type(a)"
      ],
      "metadata": {
        "colab": {
          "base_uri": "https://localhost:8080/"
        },
        "id": "I0XJrZhuNU1N",
        "outputId": "5a0a8048-ed75-422c-e76a-7b3413d72b27"
      },
      "execution_count": 204,
      "outputs": [
        {
          "output_type": "execute_result",
          "data": {
            "text/plain": [
              "numpy.ndarray"
            ]
          },
          "metadata": {},
          "execution_count": 204
        }
      ]
    }
  ]
}